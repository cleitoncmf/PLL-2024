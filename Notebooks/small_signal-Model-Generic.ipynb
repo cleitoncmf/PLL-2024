{
 "cells": [
  {
   "cell_type": "markdown",
   "metadata": {},
   "source": [
    "# Desenvolvidmento do modelo de pequenos sinais do PLL\n",
    "\n",
    "Estou considerando aqui que o PLL é responsável por trackear uma componente de sequência positiva ou negativa de uma determinada ordem harmônica. Esta é uma versão modificada do arquivo <code>small_singla-model.ipynb</code>, que está focando em uma única componente harmônica.\n",
    "\n",
    "\n",
    "Ainda está em desenvolvimento!"
   ]
  },
  {
   "cell_type": "code",
   "execution_count": 1,
   "metadata": {},
   "outputs": [],
   "source": [
    "import sympy as sp\n",
    "\n",
    "\n",
    "from IPython.display import Math\n",
    "from sympy.interactive import printing"
   ]
  },
  {
   "cell_type": "markdown",
   "metadata": {},
   "source": [
    "## Definição das variáveis"
   ]
  },
  {
   "cell_type": "code",
   "execution_count": 2,
   "metadata": {},
   "outputs": [],
   "source": [
    "# Sinais de Entrada\n",
    "v_al = sp.Symbol('v_\\\\alpha')\n",
    "v_be = sp.Symbol('v_\\\\beta')\n",
    "\n",
    "# Erro de phase\n",
    "erro_ph = sp.Symbol('\\\\varepsilon_\\\\phi')\n",
    "\n",
    "# Erro de amplitude\n",
    "erro_vp = sp.Symbol('\\\\varepsilon_vp')\n",
    "\n",
    "# Variável trackeada: amplitude\n",
    "#Vp = sp.Symbol('V_p')\n",
    "\n",
    "# Variável trackeada: frequência angular\n",
    "Vpll = sp.Symbol('V_{pll}')\n",
    "\n",
    "# Variável trackeada: frequência angular\n",
    "wpll = sp.Symbol('\\\\omega_{pll}')\n",
    "\n",
    "# Variável trackeada: ângulo\n",
    "thetapll = sp.Symbol('\\\\theta_{pll}')\n",
    "\n",
    "# Sinais de saída do PLL\n",
    "pll_al = sp.Symbol('pll_\\\\alpha')\n",
    "pll_be = sp.Symbol('pll_\\\\beta')"
   ]
  },
  {
   "cell_type": "markdown",
   "metadata": {},
   "source": [
    "## Equações do PLL"
   ]
  },
  {
   "cell_type": "code",
   "execution_count": 3,
   "metadata": {},
   "outputs": [
    {
     "name": "stdout",
     "output_type": "stream",
     "text": [
      "Sinais de saída:\n"
     ]
    },
    {
     "data": {
      "text/latex": [
       "$\\displaystyle pll_{\\alpha} = - V_{pll} \\sin{\\left(\\theta_{pll} \\right)}$"
      ],
      "text/plain": [
       "<IPython.core.display.Math object>"
      ]
     },
     "metadata": {},
     "output_type": "display_data"
    },
    {
     "data": {
      "text/latex": [
       "$\\displaystyle pll_{\\beta} = V_{pll} \\cos{\\left(\\theta_{pll} \\right)}$"
      ],
      "text/plain": [
       "<IPython.core.display.Math object>"
      ]
     },
     "metadata": {},
     "output_type": "display_data"
    },
    {
     "name": "stdout",
     "output_type": "stream",
     "text": [
      "\n",
      "Erro de fase\n"
     ]
    },
    {
     "data": {
      "text/latex": [
       "$\\displaystyle \\varepsilon_{\\phi} = \\left(- pll_{\\alpha} + v_{\\alpha}\\right) \\cos{\\left(\\theta_{pll} \\right)} + \\left(- pll_{\\beta} + v_{\\beta}\\right) \\sin{\\left(\\theta_{pll} \\right)}$"
      ],
      "text/plain": [
       "<IPython.core.display.Math object>"
      ]
     },
     "metadata": {},
     "output_type": "display_data"
    },
    {
     "name": "stdout",
     "output_type": "stream",
     "text": [
      "\n",
      "Erro de Amplitude\n"
     ]
    },
    {
     "data": {
      "text/latex": [
       "$\\displaystyle \\varepsilon_{vp} = \\left(pll_{\\alpha} - v_{\\alpha}\\right) \\sin{\\left(\\theta_{pll} \\right)} + \\left(- pll_{\\beta} + v_{\\beta}\\right) \\cos{\\left(\\theta_{pll} \\right)}$"
      ],
      "text/plain": [
       "<IPython.core.display.Math object>"
      ]
     },
     "metadata": {},
     "output_type": "display_data"
    }
   ],
   "source": [
    "# Equações de saída do PLL\n",
    "eq_pll_al = sp.Eq(pll_al,-Vpll*sp.sin(thetapll))\n",
    "eq_pll_be = sp.Eq(pll_be,Vpll*sp.cos(thetapll))\n",
    "\n",
    "# Equações de erro do PLL\n",
    "with sp.evaluate(0):\n",
    "    eq_erro_ph = sp.Eq(erro_ph,(v_al - pll_al)*sp.cos(thetapll) + (v_be - pll_be)*sp.sin(thetapll))\n",
    "    eq_erro_vp = sp.Eq(erro_vp,-(v_al - pll_al)*sp.sin(thetapll) + (v_be - pll_be)*sp.cos(thetapll))\n",
    "\n",
    "# Resultados\n",
    "print('Sinais de saída:')\n",
    "display(\n",
    "Math('{} = {}'.format(printing.default_latex(eq_pll_al.lhs),\n",
    "                      printing.default_latex(eq_pll_al.rhs)))                    \n",
    ")\n",
    "display(\n",
    "Math('{} = {}'.format(printing.default_latex(eq_pll_be.lhs),\n",
    "                      printing.default_latex(eq_pll_be.rhs)))                    \n",
    ")\n",
    "\n",
    "\n",
    "print('\\nErro de fase')\n",
    "display(\n",
    "Math('{} = {}'.format(printing.default_latex(eq_erro_ph.lhs),\n",
    "                      printing.default_latex(eq_erro_ph.rhs)))\n",
    ")\n",
    "\n",
    "\n",
    "print('\\nErro de Amplitude')\n",
    "display(\n",
    "Math('{} = {}'.format(printing.default_latex(eq_erro_vp.lhs),\n",
    "                      printing.default_latex(eq_erro_vp.rhs)))\n",
    ")"
   ]
  },
  {
   "cell_type": "markdown",
   "metadata": {},
   "source": [
    "## Definição de variáveis para a linearização"
   ]
  },
  {
   "cell_type": "code",
   "execution_count": 4,
   "metadata": {},
   "outputs": [],
   "source": [
    "# ------------------------------\n",
    "# Variáveis de regime permanente\n",
    "# ------------------------------\n",
    "\n",
    "# Sinais de Entrada\n",
    "v_al_ss = sp.Symbol('v_{\\\\alpha,ss}')\n",
    "v_be_ss = sp.Symbol('v_{\\\\beta,ss}')\n",
    "\n",
    "# Erro de phase\n",
    "erro_ph_ss = sp.Symbol('\\\\varepsilon_{\\\\phi,ss}')\n",
    "\n",
    "# Erro de amplitude\n",
    "erro_vp_ss = sp.Symbol('\\\\varepsilon_{vp,ss}')\n",
    "\n",
    "# Variável trackeada: amplitude\n",
    "#Vp_ss = sp.Symbol('V_{p,ss}')\n",
    "\n",
    "# Variável trackeada: amplitude\n",
    "Vpll_ss = sp.Symbol('V_{pll,ss}')\n",
    "\n",
    "# Variável trackeada: frequência angular\n",
    "wpll_ss = sp.Symbol('\\\\omega_{pll,ss}')\n",
    "\n",
    "# Variável trackeada: ângulo\n",
    "thetapll_ss = sp.Symbol('\\\\theta_{pll,ss}')\n",
    "\n",
    "# Sinais de saída do PLL\n",
    "pll_al_ss = sp.Symbol('pll_{\\\\alpha,ss}')\n",
    "pll_be_ss = sp.Symbol('pll_{\\\\beta,ss}')\n",
    "\n",
    "\n",
    "# ------------------------------\n",
    "# Variávies perturbatorias\n",
    "# ------------------------------\n",
    "\n",
    "# Sinais de Entrada\n",
    "D_v_al = sp.Symbol('\\\\Delta v_\\\\alpha')\n",
    "D_v_be = sp.Symbol('\\\\Delta v_\\\\beta')\n",
    "\n",
    "# Erro de phase\n",
    "D_erro_ph = sp.Symbol('\\\\Delta \\\\varepsilon_\\\\phi')\n",
    "\n",
    "# Erro de amplitude\n",
    "D_erro_vp = sp.Symbol('\\\\Delta \\\\varepsilon_vp')\n",
    "\n",
    "# Variável trackeada: amplitude\n",
    "#D_Vp = sp.Symbol('\\\\Delta V_p')\n",
    "\n",
    "# Variável trackeada: frequência angular\n",
    "D_Vpll = sp.Symbol('\\\\Delta V_{pll}')\n",
    "\n",
    "# Variável trackeada: frequência angular\n",
    "D_wpll = sp.Symbol('\\\\Delta \\\\omega_{pll}')\n",
    "\n",
    "# Variável trackeada: ângulo\n",
    "D_thetapll = sp.Symbol('\\\\Delta \\\\theta_{pll}')\n",
    "\n",
    "# Sinais de saída do PLL\n",
    "D_pll_al = sp.Symbol('\\\\Delta pll_\\\\alpha')\n",
    "D_pll_be = sp.Symbol('\\\\Delta pll_\\\\beta')"
   ]
  },
  {
   "cell_type": "markdown",
   "metadata": {},
   "source": [
    "## Linearização por perturbação"
   ]
  },
  {
   "cell_type": "code",
   "execution_count": 5,
   "metadata": {},
   "outputs": [
    {
     "name": "stdout",
     "output_type": "stream",
     "text": [
      "Equações de saída com perturbações:\n"
     ]
    },
    {
     "data": {
      "text/latex": [
       "$\\displaystyle \\Delta pll_{\\alpha} + pll_{\\alpha,ss} = - \\left(V_{pll,ss} + \\Delta V_{pll}\\right) \\sin{\\left(\\Delta \\theta_{pll} + \\theta_{pll,ss} \\right)}$"
      ],
      "text/plain": [
       "<IPython.core.display.Math object>"
      ]
     },
     "metadata": {},
     "output_type": "display_data"
    },
    {
     "data": {
      "text/latex": [
       "$\\displaystyle \\Delta pll_{\\beta} + pll_{\\beta,ss} = \\left(V_{pll,ss} + \\Delta V_{pll}\\right) \\cos{\\left(\\Delta \\theta_{pll} + \\theta_{pll,ss} \\right)}$"
      ],
      "text/plain": [
       "<IPython.core.display.Math object>"
      ]
     },
     "metadata": {},
     "output_type": "display_data"
    },
    {
     "name": "stdout",
     "output_type": "stream",
     "text": [
      "\n",
      "Equação de Erro de fase com perturbações\n"
     ]
    },
    {
     "data": {
      "text/latex": [
       "$\\displaystyle \\Delta \\varepsilon_{\\phi} + \\varepsilon_{\\phi,ss} = \\left(- \\Delta pll_{\\alpha} + \\Delta v_{\\alpha} - pll_{\\alpha,ss} + v_{\\alpha,ss}\\right) \\cos{\\left(\\Delta \\theta_{pll} + \\theta_{pll,ss} \\right)} + \\left(- \\Delta pll_{\\beta} + \\Delta v_{\\beta} - pll_{\\beta,ss} + v_{\\beta,ss}\\right) \\sin{\\left(\\Delta \\theta_{pll} + \\theta_{pll,ss} \\right)}$"
      ],
      "text/plain": [
       "<IPython.core.display.Math object>"
      ]
     },
     "metadata": {},
     "output_type": "display_data"
    },
    {
     "name": "stdout",
     "output_type": "stream",
     "text": [
      "\n",
      "Equação de Erro de Amplitude com perturbações\n"
     ]
    },
    {
     "data": {
      "text/latex": [
       "$\\displaystyle \\Delta \\varepsilon_{vp} + \\varepsilon_{vp,ss} = \\left(\\Delta pll_{\\alpha} - \\Delta v_{\\alpha} + pll_{\\alpha,ss} - v_{\\alpha,ss}\\right) \\sin{\\left(\\Delta \\theta_{pll} + \\theta_{pll,ss} \\right)} + \\left(- \\Delta pll_{\\beta} + \\Delta v_{\\beta} - pll_{\\beta,ss} + v_{\\beta,ss}\\right) \\cos{\\left(\\Delta \\theta_{pll} + \\theta_{pll,ss} \\right)}$"
      ],
      "text/plain": [
       "<IPython.core.display.Math object>"
      ]
     },
     "metadata": {},
     "output_type": "display_data"
    }
   ],
   "source": [
    "# Perturbação das equações\n",
    "\n",
    "lista_variaveis = [v_al,\n",
    "                   v_be,\n",
    "                   erro_ph,\n",
    "                   erro_vp,\n",
    "                   Vpll,\n",
    "                   wpll,\n",
    "                   thetapll,\n",
    "                   pll_al,\n",
    "                   pll_be]\n",
    "\n",
    "\n",
    "lista_variaves_p = [v_al_ss + D_v_al,\n",
    "                    v_be_ss + D_v_be,\n",
    "                    erro_ph_ss + D_erro_ph,\n",
    "                    erro_vp_ss + D_erro_vp,\n",
    "                    Vpll_ss + D_Vpll,\n",
    "                    wpll_ss + D_wpll,\n",
    "                    thetapll_ss + D_thetapll,\n",
    "                    pll_al_ss + D_pll_al,\n",
    "                    pll_be_ss + D_pll_be]\n",
    "\n",
    "\n",
    "for k,item in enumerate(lista_variaveis):\n",
    "    if(k==0):\n",
    "        eq_pll_al_p = eq_pll_al.subs(item,lista_variaves_p[k])\n",
    "        eq_pll_be_p = eq_pll_be.subs(item,lista_variaves_p[k])\n",
    "        eq_erro_ph_p = eq_erro_ph.subs(item,lista_variaves_p[k])\n",
    "        eq_erro_vp_p = eq_erro_vp.subs(item,lista_variaves_p[k])\n",
    "    else:\n",
    "        eq_pll_al_p = eq_pll_al_p.subs(item,lista_variaves_p[k])\n",
    "        eq_pll_be_p = eq_pll_be_p.subs(item,lista_variaves_p[k])\n",
    "        eq_erro_ph_p = eq_erro_ph_p.subs(item,lista_variaves_p[k])\n",
    "        eq_erro_vp_p = eq_erro_vp_p.subs(item,lista_variaves_p[k])\n",
    "\n",
    "\n",
    "\n",
    "\n",
    "\n",
    "# Resultados\n",
    "print('Equações de saída com perturbações:')\n",
    "display(\n",
    "Math('{} = {}'.format(printing.default_latex(eq_pll_al_p.lhs),\n",
    "                      printing.default_latex(eq_pll_al_p.rhs)))                    \n",
    ")\n",
    "display(\n",
    "Math('{} = {}'.format(printing.default_latex(eq_pll_be_p.lhs),\n",
    "                      printing.default_latex(eq_pll_be_p.rhs)))                    \n",
    ")\n",
    "\n",
    "\n",
    "print('\\nEquação de Erro de fase com perturbações')\n",
    "display(\n",
    "Math('{} = {}'.format(printing.default_latex(eq_erro_ph_p.lhs),\n",
    "                      printing.default_latex(eq_erro_ph_p.rhs)))\n",
    ")\n",
    "\n",
    "\n",
    "print('\\nEquação de Erro de Amplitude com perturbações')\n",
    "display(\n",
    "Math('{} = {}'.format(printing.default_latex(eq_erro_vp_p.lhs),\n",
    "                      printing.default_latex(eq_erro_vp_p.rhs)))\n",
    ")"
   ]
  },
  {
   "cell_type": "code",
   "execution_count": 6,
   "metadata": {},
   "outputs": [
    {
     "name": "stdout",
     "output_type": "stream",
     "text": [
      "Equações de saída com perturbações:\n"
     ]
    },
    {
     "data": {
      "text/latex": [
       "$\\displaystyle \\Delta pll_{\\alpha} + pll_{\\alpha,ss} = - \\left(V_{pll,ss} + \\Delta V_{pll}\\right) \\left(\\sin{\\left(\\Delta \\theta_{pll} \\right)} \\cos{\\left(\\theta_{pll,ss} \\right)} + \\sin{\\left(\\theta_{pll,ss} \\right)} \\cos{\\left(\\Delta \\theta_{pll} \\right)}\\right)$"
      ],
      "text/plain": [
       "<IPython.core.display.Math object>"
      ]
     },
     "metadata": {},
     "output_type": "display_data"
    },
    {
     "data": {
      "text/latex": [
       "$\\displaystyle \\Delta pll_{\\beta} + pll_{\\beta,ss} = \\left(V_{pll,ss} + \\Delta V_{pll}\\right) \\left(- \\sin{\\left(\\Delta \\theta_{pll} \\right)} \\sin{\\left(\\theta_{pll,ss} \\right)} + \\cos{\\left(\\Delta \\theta_{pll} \\right)} \\cos{\\left(\\theta_{pll,ss} \\right)}\\right)$"
      ],
      "text/plain": [
       "<IPython.core.display.Math object>"
      ]
     },
     "metadata": {},
     "output_type": "display_data"
    },
    {
     "name": "stdout",
     "output_type": "stream",
     "text": [
      "\n",
      "Equação de Erro de fase com perturbações\n"
     ]
    },
    {
     "data": {
      "text/latex": [
       "$\\displaystyle \\Delta \\varepsilon_{\\phi} + \\varepsilon_{\\phi,ss} = \\left(- \\sin{\\left(\\Delta \\theta_{pll} \\right)} \\sin{\\left(\\theta_{pll,ss} \\right)} + \\cos{\\left(\\Delta \\theta_{pll} \\right)} \\cos{\\left(\\theta_{pll,ss} \\right)}\\right) \\left(- \\Delta pll_{\\alpha} + \\Delta v_{\\alpha} - pll_{\\alpha,ss} + v_{\\alpha,ss}\\right) + \\left(\\sin{\\left(\\Delta \\theta_{pll} \\right)} \\cos{\\left(\\theta_{pll,ss} \\right)} + \\sin{\\left(\\theta_{pll,ss} \\right)} \\cos{\\left(\\Delta \\theta_{pll} \\right)}\\right) \\left(- \\Delta pll_{\\beta} + \\Delta v_{\\beta} - pll_{\\beta,ss} + v_{\\beta,ss}\\right)$"
      ],
      "text/plain": [
       "<IPython.core.display.Math object>"
      ]
     },
     "metadata": {},
     "output_type": "display_data"
    },
    {
     "name": "stdout",
     "output_type": "stream",
     "text": [
      "\n",
      "Equação de Erro de Amplitude com perturbações\n"
     ]
    },
    {
     "data": {
      "text/latex": [
       "$\\displaystyle \\Delta \\varepsilon_{vp} + \\varepsilon_{vp,ss} = \\left(- \\sin{\\left(\\Delta \\theta_{pll} \\right)} \\sin{\\left(\\theta_{pll,ss} \\right)} + \\cos{\\left(\\Delta \\theta_{pll} \\right)} \\cos{\\left(\\theta_{pll,ss} \\right)}\\right) \\left(- \\Delta pll_{\\beta} + \\Delta v_{\\beta} - pll_{\\beta,ss} + v_{\\beta,ss}\\right) + \\left(\\sin{\\left(\\Delta \\theta_{pll} \\right)} \\cos{\\left(\\theta_{pll,ss} \\right)} + \\sin{\\left(\\theta_{pll,ss} \\right)} \\cos{\\left(\\Delta \\theta_{pll} \\right)}\\right) \\left(\\Delta pll_{\\alpha} - \\Delta v_{\\alpha} + pll_{\\alpha,ss} - v_{\\alpha,ss}\\right)$"
      ],
      "text/plain": [
       "<IPython.core.display.Math object>"
      ]
     },
     "metadata": {},
     "output_type": "display_data"
    }
   ],
   "source": [
    "# Separação dos argumentos de senos e cossenos\n",
    "from sympy.simplify.fu import TR10\n",
    "\n",
    "eq_pll_al_p2 = TR10(eq_pll_al_p)\n",
    "eq_pll_be_p2 = TR10(eq_pll_be_p)\n",
    "eq_erro_ph_p2 = TR10(eq_erro_ph_p)\n",
    "eq_erro_vp_p2 = TR10(eq_erro_vp_p)\n",
    "\n",
    "\n",
    "# Resultados\n",
    "print('Equações de saída com perturbações:')\n",
    "display(\n",
    "Math('{} = {}'.format(printing.default_latex(eq_pll_al_p2.lhs),\n",
    "                      printing.default_latex(eq_pll_al_p2.rhs)))                    \n",
    ")\n",
    "display(\n",
    "Math('{} = {}'.format(printing.default_latex(eq_pll_be_p2.lhs),\n",
    "                      printing.default_latex(eq_pll_be_p2.rhs)))                    \n",
    ")\n",
    "\n",
    "\n",
    "print('\\nEquação de Erro de fase com perturbações')\n",
    "display(\n",
    "Math('{} = {}'.format(printing.default_latex(eq_erro_ph_p2.lhs),\n",
    "                      printing.default_latex(eq_erro_ph_p2.rhs)))\n",
    ")\n",
    "\n",
    "\n",
    "print('\\nEquação de Erro de Amplitude com perturbações')\n",
    "display(\n",
    "Math('{} = {}'.format(printing.default_latex(eq_erro_vp_p2.lhs),\n",
    "                      printing.default_latex(eq_erro_vp_p2.rhs)))\n",
    ")"
   ]
  },
  {
   "cell_type": "code",
   "execution_count": 7,
   "metadata": {},
   "outputs": [
    {
     "name": "stdout",
     "output_type": "stream",
     "text": [
      "Equações de saída com perturbações:\n"
     ]
    },
    {
     "data": {
      "text/latex": [
       "$\\displaystyle \\Delta pll_{\\alpha} + pll_{\\alpha,ss} = - \\left(V_{pll,ss} + \\Delta V_{pll}\\right) \\left(\\Delta \\theta_{pll} \\cos{\\left(\\theta_{pll,ss} \\right)} + \\sin{\\left(\\theta_{pll,ss} \\right)}\\right)$"
      ],
      "text/plain": [
       "<IPython.core.display.Math object>"
      ]
     },
     "metadata": {},
     "output_type": "display_data"
    },
    {
     "data": {
      "text/latex": [
       "$\\displaystyle \\Delta pll_{\\beta} + pll_{\\beta,ss} = \\left(V_{pll,ss} + \\Delta V_{pll}\\right) \\left(- \\Delta \\theta_{pll} \\sin{\\left(\\theta_{pll,ss} \\right)} + \\cos{\\left(\\theta_{pll,ss} \\right)}\\right)$"
      ],
      "text/plain": [
       "<IPython.core.display.Math object>"
      ]
     },
     "metadata": {},
     "output_type": "display_data"
    },
    {
     "name": "stdout",
     "output_type": "stream",
     "text": [
      "\n",
      "Equação de Erro de fase com perturbações\n"
     ]
    },
    {
     "data": {
      "text/latex": [
       "$\\displaystyle \\Delta \\varepsilon_{\\phi} + \\varepsilon_{\\phi,ss} = \\left(- \\Delta \\theta_{pll} \\sin{\\left(\\theta_{pll,ss} \\right)} + \\cos{\\left(\\theta_{pll,ss} \\right)}\\right) \\left(- \\Delta pll_{\\alpha} + \\Delta v_{\\alpha} - pll_{\\alpha,ss} + v_{\\alpha,ss}\\right) + \\left(\\Delta \\theta_{pll} \\cos{\\left(\\theta_{pll,ss} \\right)} + \\sin{\\left(\\theta_{pll,ss} \\right)}\\right) \\left(- \\Delta pll_{\\beta} + \\Delta v_{\\beta} - pll_{\\beta,ss} + v_{\\beta,ss}\\right)$"
      ],
      "text/plain": [
       "<IPython.core.display.Math object>"
      ]
     },
     "metadata": {},
     "output_type": "display_data"
    },
    {
     "name": "stdout",
     "output_type": "stream",
     "text": [
      "\n",
      "Equação de Erro de Amplitude com perturbações\n"
     ]
    },
    {
     "data": {
      "text/latex": [
       "$\\displaystyle \\Delta \\varepsilon_{vp} + \\varepsilon_{vp,ss} = \\left(- \\Delta \\theta_{pll} \\sin{\\left(\\theta_{pll,ss} \\right)} + \\cos{\\left(\\theta_{pll,ss} \\right)}\\right) \\left(- \\Delta pll_{\\beta} + \\Delta v_{\\beta} - pll_{\\beta,ss} + v_{\\beta,ss}\\right) + \\left(\\Delta \\theta_{pll} \\cos{\\left(\\theta_{pll,ss} \\right)} + \\sin{\\left(\\theta_{pll,ss} \\right)}\\right) \\left(\\Delta pll_{\\alpha} - \\Delta v_{\\alpha} + pll_{\\alpha,ss} - v_{\\alpha,ss}\\right)$"
      ],
      "text/plain": [
       "<IPython.core.display.Math object>"
      ]
     },
     "metadata": {},
     "output_type": "display_data"
    }
   ],
   "source": [
    "# Primeira etada da aproximação de pequenos sinais: aproximação de pequenos sinais de senos e cossenos\n",
    "\n",
    "\n",
    "lista_expr_trig = [sp.sin(D_thetapll),\n",
    "                   sp.cos(D_thetapll)]\n",
    "\n",
    "\n",
    "lista_approx = [D_thetapll,\n",
    "                1]\n",
    "\n",
    "\n",
    "for k,item in enumerate(lista_expr_trig):\n",
    "    if(k==0):\n",
    "        eq_pll_al_p3 = eq_pll_al_p2.subs(item,lista_approx[k])\n",
    "        eq_pll_be_p3 = eq_pll_be_p2.subs(item,lista_approx[k])\n",
    "        eq_erro_ph_p3 = eq_erro_ph_p2.subs(item,lista_approx[k])\n",
    "        eq_erro_vp_p3 = eq_erro_vp_p2.subs(item,lista_approx[k])\n",
    "    else:\n",
    "        eq_pll_al_p3 = eq_pll_al_p3.subs(item,lista_approx[k])\n",
    "        eq_pll_be_p3 = eq_pll_be_p3.subs(item,lista_approx[k])\n",
    "        eq_erro_ph_p3 = eq_erro_ph_p3.subs(item,lista_approx[k])\n",
    "        eq_erro_vp_p3 = eq_erro_vp_p3.subs(item,lista_approx[k])\n",
    "\n",
    "# Resultados\n",
    "print('Equações de saída com perturbações:')\n",
    "display(\n",
    "Math('{} = {}'.format(printing.default_latex(eq_pll_al_p3.lhs),\n",
    "                      printing.default_latex(eq_pll_al_p3.rhs)))                    \n",
    ")\n",
    "display(\n",
    "Math('{} = {}'.format(printing.default_latex(eq_pll_be_p3.lhs),\n",
    "                      printing.default_latex(eq_pll_be_p3.rhs)))                    \n",
    ")\n",
    "\n",
    "\n",
    "print('\\nEquação de Erro de fase com perturbações')\n",
    "display(\n",
    "Math('{} = {}'.format(printing.default_latex(eq_erro_ph_p3.lhs),\n",
    "                      printing.default_latex(eq_erro_ph_p3.rhs)))\n",
    ")\n",
    "\n",
    "\n",
    "print('\\nEquação de Erro de Amplitude com perturbações')\n",
    "display(\n",
    "Math('{} = {}'.format(printing.default_latex(eq_erro_vp_p3.lhs),\n",
    "                      printing.default_latex(eq_erro_vp_p3.rhs)))\n",
    ")"
   ]
  },
  {
   "cell_type": "code",
   "execution_count": 8,
   "metadata": {},
   "outputs": [
    {
     "name": "stdout",
     "output_type": "stream",
     "text": [
      "Equações de saída com perturbações:\n"
     ]
    },
    {
     "data": {
      "text/latex": [
       "$\\displaystyle \\Delta pll_{\\alpha} + pll_{\\alpha,ss} = - V_{pll,ss} \\Delta \\theta_{pll} \\cos{\\left(\\theta_{pll,ss} \\right)} - V_{pll,ss} \\sin{\\left(\\theta_{pll,ss} \\right)} - \\Delta V_{pll} \\Delta \\theta_{pll} \\cos{\\left(\\theta_{pll,ss} \\right)} - \\Delta V_{pll} \\sin{\\left(\\theta_{pll,ss} \\right)}$"
      ],
      "text/plain": [
       "<IPython.core.display.Math object>"
      ]
     },
     "metadata": {},
     "output_type": "display_data"
    },
    {
     "data": {
      "text/latex": [
       "$\\displaystyle \\Delta pll_{\\beta} + pll_{\\beta,ss} = - V_{pll,ss} \\Delta \\theta_{pll} \\sin{\\left(\\theta_{pll,ss} \\right)} + V_{pll,ss} \\cos{\\left(\\theta_{pll,ss} \\right)} - \\Delta V_{pll} \\Delta \\theta_{pll} \\sin{\\left(\\theta_{pll,ss} \\right)} + \\Delta V_{pll} \\cos{\\left(\\theta_{pll,ss} \\right)}$"
      ],
      "text/plain": [
       "<IPython.core.display.Math object>"
      ]
     },
     "metadata": {},
     "output_type": "display_data"
    },
    {
     "name": "stdout",
     "output_type": "stream",
     "text": [
      "\n",
      "Equação de Erro de fase com perturbações\n"
     ]
    },
    {
     "data": {
      "text/latex": [
       "$\\displaystyle \\Delta \\varepsilon_{\\phi} + \\varepsilon_{\\phi,ss} = \\Delta \\theta_{pll} \\Delta pll_{\\alpha} \\sin{\\left(\\theta_{pll,ss} \\right)} - \\Delta \\theta_{pll} \\Delta pll_{\\beta} \\cos{\\left(\\theta_{pll,ss} \\right)} - \\Delta \\theta_{pll} \\Delta v_{\\alpha} \\sin{\\left(\\theta_{pll,ss} \\right)} + \\Delta \\theta_{pll} \\Delta v_{\\beta} \\cos{\\left(\\theta_{pll,ss} \\right)} + \\Delta \\theta_{pll} pll_{\\alpha,ss} \\sin{\\left(\\theta_{pll,ss} \\right)} - \\Delta \\theta_{pll} pll_{\\beta,ss} \\cos{\\left(\\theta_{pll,ss} \\right)} - \\Delta \\theta_{pll} v_{\\alpha,ss} \\sin{\\left(\\theta_{pll,ss} \\right)} + \\Delta \\theta_{pll} v_{\\beta,ss} \\cos{\\left(\\theta_{pll,ss} \\right)} - \\Delta pll_{\\alpha} \\cos{\\left(\\theta_{pll,ss} \\right)} - \\Delta pll_{\\beta} \\sin{\\left(\\theta_{pll,ss} \\right)} + \\Delta v_{\\alpha} \\cos{\\left(\\theta_{pll,ss} \\right)} + \\Delta v_{\\beta} \\sin{\\left(\\theta_{pll,ss} \\right)} - pll_{\\alpha,ss} \\cos{\\left(\\theta_{pll,ss} \\right)} - pll_{\\beta,ss} \\sin{\\left(\\theta_{pll,ss} \\right)} + v_{\\alpha,ss} \\cos{\\left(\\theta_{pll,ss} \\right)} + v_{\\beta,ss} \\sin{\\left(\\theta_{pll,ss} \\right)}$"
      ],
      "text/plain": [
       "<IPython.core.display.Math object>"
      ]
     },
     "metadata": {},
     "output_type": "display_data"
    },
    {
     "name": "stdout",
     "output_type": "stream",
     "text": [
      "\n",
      "Equação de Erro de Amplitude com perturbações\n"
     ]
    },
    {
     "data": {
      "text/latex": [
       "$\\displaystyle \\Delta \\varepsilon_{vp} + \\varepsilon_{vp,ss} = \\Delta \\theta_{pll} \\Delta pll_{\\alpha} \\cos{\\left(\\theta_{pll,ss} \\right)} + \\Delta \\theta_{pll} \\Delta pll_{\\beta} \\sin{\\left(\\theta_{pll,ss} \\right)} - \\Delta \\theta_{pll} \\Delta v_{\\alpha} \\cos{\\left(\\theta_{pll,ss} \\right)} - \\Delta \\theta_{pll} \\Delta v_{\\beta} \\sin{\\left(\\theta_{pll,ss} \\right)} + \\Delta \\theta_{pll} pll_{\\alpha,ss} \\cos{\\left(\\theta_{pll,ss} \\right)} + \\Delta \\theta_{pll} pll_{\\beta,ss} \\sin{\\left(\\theta_{pll,ss} \\right)} - \\Delta \\theta_{pll} v_{\\alpha,ss} \\cos{\\left(\\theta_{pll,ss} \\right)} - \\Delta \\theta_{pll} v_{\\beta,ss} \\sin{\\left(\\theta_{pll,ss} \\right)} + \\Delta pll_{\\alpha} \\sin{\\left(\\theta_{pll,ss} \\right)} - \\Delta pll_{\\beta} \\cos{\\left(\\theta_{pll,ss} \\right)} - \\Delta v_{\\alpha} \\sin{\\left(\\theta_{pll,ss} \\right)} + \\Delta v_{\\beta} \\cos{\\left(\\theta_{pll,ss} \\right)} + pll_{\\alpha,ss} \\sin{\\left(\\theta_{pll,ss} \\right)} - pll_{\\beta,ss} \\cos{\\left(\\theta_{pll,ss} \\right)} - v_{\\alpha,ss} \\sin{\\left(\\theta_{pll,ss} \\right)} + v_{\\beta,ss} \\cos{\\left(\\theta_{pll,ss} \\right)}$"
      ],
      "text/plain": [
       "<IPython.core.display.Math object>"
      ]
     },
     "metadata": {},
     "output_type": "display_data"
    }
   ],
   "source": [
    "# Segunda etada da aproximação de pequenos sinais: expansão das equações\n",
    "\n",
    "eq_pll_al_p4 = sp.expand(eq_pll_al_p3)\n",
    "eq_pll_be_p4 = sp.expand(eq_pll_be_p3)\n",
    "eq_erro_ph_p4 = sp.expand(eq_erro_ph_p3)\n",
    "eq_erro_vp_p4 = sp.expand(eq_erro_vp_p3)\n",
    "\n",
    "# Resultados\n",
    "print('Equações de saída com perturbações:')\n",
    "display(\n",
    "Math('{} = {}'.format(printing.default_latex(eq_pll_al_p4.lhs),\n",
    "                      printing.default_latex(eq_pll_al_p4.rhs)))                    \n",
    ")\n",
    "display(\n",
    "Math('{} = {}'.format(printing.default_latex(eq_pll_be_p4.lhs),\n",
    "                      printing.default_latex(eq_pll_be_p4.rhs)))                    \n",
    ")\n",
    "\n",
    "\n",
    "print('\\nEquação de Erro de fase com perturbações')\n",
    "display(\n",
    "Math('{} = {}'.format(printing.default_latex(eq_erro_ph_p4.lhs),\n",
    "                      printing.default_latex(eq_erro_ph_p4.rhs)))\n",
    ")\n",
    "\n",
    "\n",
    "print('\\nEquação de Erro de Amplitude com perturbações')\n",
    "display(\n",
    "Math('{} = {}'.format(printing.default_latex(eq_erro_vp_p4.lhs),\n",
    "                      printing.default_latex(eq_erro_vp_p4.rhs)))\n",
    ")"
   ]
  },
  {
   "cell_type": "code",
   "execution_count": 9,
   "metadata": {},
   "outputs": [
    {
     "name": "stdout",
     "output_type": "stream",
     "text": [
      "Equações de saída com perturbações:\n"
     ]
    },
    {
     "data": {
      "text/latex": [
       "$\\displaystyle \\Delta pll_{\\alpha} = - V_{pll,ss} \\Delta \\theta_{pll} \\cos{\\left(\\theta_{pll,ss} \\right)} - \\Delta V_{pll} \\sin{\\left(\\theta_{pll,ss} \\right)}$"
      ],
      "text/plain": [
       "<IPython.core.display.Math object>"
      ]
     },
     "metadata": {},
     "output_type": "display_data"
    },
    {
     "data": {
      "text/latex": [
       "$\\displaystyle \\Delta pll_{\\beta} = - V_{pll,ss} \\Delta \\theta_{pll} \\sin{\\left(\\theta_{pll,ss} \\right)} + \\Delta V_{pll} \\cos{\\left(\\theta_{pll,ss} \\right)}$"
      ],
      "text/plain": [
       "<IPython.core.display.Math object>"
      ]
     },
     "metadata": {},
     "output_type": "display_data"
    },
    {
     "name": "stdout",
     "output_type": "stream",
     "text": [
      "\n",
      "Equação de Erro de fase com perturbações\n"
     ]
    },
    {
     "data": {
      "text/latex": [
       "$\\displaystyle \\Delta \\varepsilon_{\\phi} = \\Delta \\theta_{pll} pll_{\\alpha,ss} \\sin{\\left(\\theta_{pll,ss} \\right)} - \\Delta \\theta_{pll} pll_{\\beta,ss} \\cos{\\left(\\theta_{pll,ss} \\right)} - \\Delta \\theta_{pll} v_{\\alpha,ss} \\sin{\\left(\\theta_{pll,ss} \\right)} + \\Delta \\theta_{pll} v_{\\beta,ss} \\cos{\\left(\\theta_{pll,ss} \\right)} - \\Delta pll_{\\alpha} \\cos{\\left(\\theta_{pll,ss} \\right)} - \\Delta pll_{\\beta} \\sin{\\left(\\theta_{pll,ss} \\right)} + \\Delta v_{\\alpha} \\cos{\\left(\\theta_{pll,ss} \\right)} + \\Delta v_{\\beta} \\sin{\\left(\\theta_{pll,ss} \\right)}$"
      ],
      "text/plain": [
       "<IPython.core.display.Math object>"
      ]
     },
     "metadata": {},
     "output_type": "display_data"
    },
    {
     "name": "stdout",
     "output_type": "stream",
     "text": [
      "\n",
      "Equação de Erro de Amplitude com perturbações\n"
     ]
    },
    {
     "data": {
      "text/latex": [
       "$\\displaystyle \\Delta \\varepsilon_{vp} = \\Delta \\theta_{pll} pll_{\\alpha,ss} \\cos{\\left(\\theta_{pll,ss} \\right)} + \\Delta \\theta_{pll} pll_{\\beta,ss} \\sin{\\left(\\theta_{pll,ss} \\right)} - \\Delta \\theta_{pll} v_{\\alpha,ss} \\cos{\\left(\\theta_{pll,ss} \\right)} - \\Delta \\theta_{pll} v_{\\beta,ss} \\sin{\\left(\\theta_{pll,ss} \\right)} + \\Delta pll_{\\alpha} \\sin{\\left(\\theta_{pll,ss} \\right)} - \\Delta pll_{\\beta} \\cos{\\left(\\theta_{pll,ss} \\right)} - \\Delta v_{\\alpha} \\sin{\\left(\\theta_{pll,ss} \\right)} + \\Delta v_{\\beta} \\cos{\\left(\\theta_{pll,ss} \\right)}$"
      ],
      "text/plain": [
       "<IPython.core.display.Math object>"
      ]
     },
     "metadata": {},
     "output_type": "display_data"
    }
   ],
   "source": [
    "# Terceira etada da aproximação de pequenos sinais: extração dos termos lineares\n",
    "\n",
    "key_variables = [D_v_al,\n",
    "                 D_v_be,\n",
    "                 D_erro_ph,\n",
    "                 D_erro_vp,\n",
    "                 D_Vpll,\n",
    "                 D_wpll,\n",
    "                 D_thetapll,\n",
    "                 D_pll_al,\n",
    "                 D_pll_be]\n",
    "\n",
    "\n",
    "# Função para extrair os termos lineares\n",
    "def extract_FirstOrder_terms(eq):\n",
    "    L_part = sp.Add.make_args(eq.lhs)\n",
    "    R_part = sp.Add.make_args(eq.rhs)\n",
    "\n",
    "\n",
    "\n",
    "    L_expr = 0\n",
    "    R_expr = 0\n",
    "\n",
    "    flag = 0\n",
    "\n",
    "    for term in L_part:\n",
    "        for variable in key_variables:\n",
    "            if( variable in term.free_symbols ):\n",
    "                flag = flag + 1\n",
    "        if(flag==1):\n",
    "            L_expr = L_expr + term\n",
    "        flag = 0\n",
    "\n",
    "\n",
    "    flag = 0\n",
    "\n",
    "    for term in R_part:\n",
    "        for variable in key_variables:\n",
    "            if( variable in term.free_symbols ):\n",
    "                flag = flag + 1\n",
    "        if(flag==1):\n",
    "            R_expr = R_expr + term\n",
    "        flag = 0 \n",
    "\n",
    "\n",
    "\n",
    "    return sp.Eq(L_expr,R_expr)\n",
    "\n",
    "eq_pll_al_p5 = extract_FirstOrder_terms(eq=eq_pll_al_p4)\n",
    "eq_pll_be_p5 = extract_FirstOrder_terms(eq_pll_be_p4)\n",
    "eq_erro_ph_p5 = extract_FirstOrder_terms(eq_erro_ph_p4)\n",
    "eq_erro_vp_p5 = extract_FirstOrder_terms(eq_erro_vp_p4)\n",
    "\n",
    "\n",
    "# Resultados\n",
    "print('Equações de saída com perturbações:')\n",
    "display(\n",
    "Math('{} = {}'.format(printing.default_latex(eq_pll_al_p5.lhs),\n",
    "                      printing.default_latex(eq_pll_al_p5.rhs)))                    \n",
    ")\n",
    "display(\n",
    "Math('{} = {}'.format(printing.default_latex(eq_pll_be_p5.lhs),\n",
    "                      printing.default_latex(eq_pll_be_p5.rhs)))                    \n",
    ")\n",
    "\n",
    "\n",
    "print('\\nEquação de Erro de fase com perturbações')\n",
    "display(\n",
    "Math('{} = {}'.format(printing.default_latex(eq_erro_ph_p5.lhs),\n",
    "                      printing.default_latex(eq_erro_ph_p5.rhs)))\n",
    ")\n",
    "\n",
    "\n",
    "print('\\nEquação de Erro de Amplitude com perturbações')\n",
    "display(\n",
    "Math('{} = {}'.format(printing.default_latex(eq_erro_vp_p5.lhs),\n",
    "                      printing.default_latex(eq_erro_vp_p5.rhs)))\n",
    ")"
   ]
  },
  {
   "cell_type": "code",
   "execution_count": 10,
   "metadata": {},
   "outputs": [
    {
     "name": "stdout",
     "output_type": "stream",
     "text": [
      "Equações de saída com perturbações:\n"
     ]
    },
    {
     "data": {
      "text/latex": [
       "$\\displaystyle \\Delta pll_{\\alpha} = - V_{pll,ss} \\Delta \\theta_{pll} \\cos{\\left(\\theta_{pll,ss} \\right)} - \\Delta V_{pll} \\sin{\\left(\\theta_{pll,ss} \\right)}$"
      ],
      "text/plain": [
       "<IPython.core.display.Math object>"
      ]
     },
     "metadata": {},
     "output_type": "display_data"
    },
    {
     "data": {
      "text/latex": [
       "$\\displaystyle \\Delta pll_{\\beta} = - V_{pll,ss} \\Delta \\theta_{pll} \\sin{\\left(\\theta_{pll,ss} \\right)} + \\Delta V_{pll} \\cos{\\left(\\theta_{pll,ss} \\right)}$"
      ],
      "text/plain": [
       "<IPython.core.display.Math object>"
      ]
     },
     "metadata": {},
     "output_type": "display_data"
    },
    {
     "name": "stdout",
     "output_type": "stream",
     "text": [
      "\n",
      "Equação de Erro de fase com perturbações\n"
     ]
    },
    {
     "data": {
      "text/latex": [
       "$\\displaystyle \\Delta \\varepsilon_{\\phi} = - \\Delta pll_{\\alpha} \\cos{\\left(\\theta_{pll,ss} \\right)} - \\Delta pll_{\\beta} \\sin{\\left(\\theta_{pll,ss} \\right)} + \\Delta v_{\\alpha} \\cos{\\left(\\theta_{pll,ss} \\right)} + \\Delta v_{\\beta} \\sin{\\left(\\theta_{pll,ss} \\right)}$"
      ],
      "text/plain": [
       "<IPython.core.display.Math object>"
      ]
     },
     "metadata": {},
     "output_type": "display_data"
    },
    {
     "name": "stdout",
     "output_type": "stream",
     "text": [
      "\n",
      "Equação de Erro de Amplitude com perturbações\n"
     ]
    },
    {
     "data": {
      "text/latex": [
       "$\\displaystyle \\Delta \\varepsilon_{vp} = \\Delta pll_{\\alpha} \\sin{\\left(\\theta_{pll,ss} \\right)} - \\Delta pll_{\\beta} \\cos{\\left(\\theta_{pll,ss} \\right)} - \\Delta v_{\\alpha} \\sin{\\left(\\theta_{pll,ss} \\right)} + \\Delta v_{\\beta} \\cos{\\left(\\theta_{pll,ss} \\right)}$"
      ],
      "text/plain": [
       "<IPython.core.display.Math object>"
      ]
     },
     "metadata": {},
     "output_type": "display_data"
    }
   ],
   "source": [
    "# Quarta etapa da aproximação de pequenos sinais: substituição de sinais senoidais de regime permanente\n",
    "\n",
    "\n",
    "\n",
    "lista_sinais = [v_al_ss,\n",
    "                v_be_ss,\n",
    "                pll_al_ss,\n",
    "                pll_be_ss]\n",
    "\n",
    "\n",
    "lista_result = [Vpll_ss*sp.sin(thetapll_ss),\n",
    "                Vpll_ss*sp.cos(thetapll_ss),\n",
    "                Vpll_ss*sp.sin(thetapll_ss),\n",
    "                Vpll_ss*sp.cos(thetapll_ss)]\n",
    "\n",
    "\n",
    "\n",
    "\n",
    "for k,item in enumerate(lista_sinais):\n",
    "    if(k==0):\n",
    "        eq_pll_al_p6 = eq_pll_al_p5.subs(item,lista_result[k])\n",
    "        eq_pll_be_p6 = eq_pll_be_p5.subs(item,lista_result[k])\n",
    "        eq_erro_ph_p6 = eq_erro_ph_p5.subs(item,lista_result[k])\n",
    "        eq_erro_vp_p6 = eq_erro_vp_p5.subs(item,lista_result[k])\n",
    "    else:\n",
    "        eq_pll_al_p6 = eq_pll_al_p6.subs(item,lista_result[k])\n",
    "        eq_pll_be_p6 = eq_pll_be_p6.subs(item,lista_result[k])\n",
    "        eq_erro_ph_p6 = eq_erro_ph_p6.subs(item,lista_result[k])\n",
    "        eq_erro_vp_p6 = eq_erro_vp_p6.subs(item,lista_result[k])\n",
    "\n",
    "\n",
    "# Resultados\n",
    "print('Equações de saída com perturbações:')\n",
    "display(\n",
    "Math('{} = {}'.format(printing.default_latex(eq_pll_al_p6.lhs),\n",
    "                      printing.default_latex(eq_pll_al_p6.rhs)))                    \n",
    ")\n",
    "display(\n",
    "Math('{} = {}'.format(printing.default_latex(eq_pll_be_p6.lhs),\n",
    "                      printing.default_latex(eq_pll_be_p6.rhs)))                    \n",
    ")\n",
    "\n",
    "\n",
    "print('\\nEquação de Erro de fase com perturbações')\n",
    "display(\n",
    "Math('{} = {}'.format(printing.default_latex(eq_erro_ph_p6.lhs),\n",
    "                      printing.default_latex(eq_erro_ph_p6.rhs)))\n",
    ")\n",
    "\n",
    "\n",
    "print('\\nEquação de Erro de Amplitude com perturbações')\n",
    "display(\n",
    "Math('{} = {}'.format(printing.default_latex(eq_erro_vp_p6.lhs),\n",
    "                      printing.default_latex(eq_erro_vp_p6.rhs)))\n",
    ")"
   ]
  },
  {
   "cell_type": "code",
   "execution_count": 11,
   "metadata": {},
   "outputs": [
    {
     "name": "stdout",
     "output_type": "stream",
     "text": [
      "Equações de saída com perturbações:\n"
     ]
    },
    {
     "data": {
      "text/latex": [
       "$\\displaystyle \\Delta v_{d} = - V_{pll,ss} \\Delta \\theta_{pll}$"
      ],
      "text/plain": [
       "<IPython.core.display.Math object>"
      ]
     },
     "metadata": {},
     "output_type": "display_data"
    },
    {
     "data": {
      "text/latex": [
       "$\\displaystyle \\Delta V_{pll} = \\Delta v_{q}$"
      ],
      "text/plain": [
       "<IPython.core.display.Math object>"
      ]
     },
     "metadata": {},
     "output_type": "display_data"
    },
    {
     "name": "stdout",
     "output_type": "stream",
     "text": [
      "\n",
      "Equação de Erro de fase com perturbações\n"
     ]
    },
    {
     "data": {
      "text/latex": [
       "$\\displaystyle \\varepsilon_{\\phi} = - \\Delta pll_{d} + \\Delta v_{d}$"
      ],
      "text/plain": [
       "<IPython.core.display.Math object>"
      ]
     },
     "metadata": {},
     "output_type": "display_data"
    },
    {
     "name": "stdout",
     "output_type": "stream",
     "text": [
      "\n",
      "Equação de Erro de Amplitude com perturbações\n"
     ]
    },
    {
     "data": {
      "text/latex": [
       "$\\displaystyle \\varepsilon_{vp} = - \\Delta pll_{q} + \\Delta v_{q}$"
      ],
      "text/plain": [
       "<IPython.core.display.Math object>"
      ]
     },
     "metadata": {},
     "output_type": "display_data"
    }
   ],
   "source": [
    "# Quinta etapa da aproximação de pequenos sinais: utilização da transformação de Park\n",
    "# Está célula não é computação automática: precisa da visualização de uma pessoa para decidir as substituições \n",
    "# vd = val cos (theta) + vbe sin (theta)\n",
    "# vq = -val sin (theta) + vbe cos (theta)\n",
    "\n",
    "\n",
    "# sinais dq\n",
    "D_v_d = sp.Symbol('\\Delta v_d')\n",
    "D_v_q = sp.Symbol('\\Delta v_q')\n",
    "\n",
    "D_pll_d = sp.Symbol('\\Delta pll_d')\n",
    "D_pll_q = sp.Symbol('\\Delta pll_q')\n",
    "\n",
    "# É fácil notar que as equações de erro são dadas por:\n",
    "with sp.evaluate(0):\n",
    "    eq_erro_ph_p7 = sp.Eq(erro_ph, D_v_d - D_pll_d)\n",
    "    eq_erro_vp_p7 = sp.Eq(erro_vp, D_v_q - D_pll_q )\n",
    "\n",
    "\n",
    "# Podemos obter as novas variáveis da seguinte forma\n",
    "eq_D_pll_d_p7 = sp.simplify( sp.Eq(D_v_d, eq_pll_al_p6.rhs*sp.cos(thetapll_ss) + eq_pll_be_p6.rhs*sp.sin(thetapll_ss) ) )\n",
    "eq_D_pll_q_p7 = sp.simplify( sp.Eq(D_v_q, -eq_pll_al_p6.rhs*sp.sin(thetapll_ss) + eq_pll_be_p6.rhs*sp.cos(thetapll_ss) ) )       \n",
    "\n",
    "\n",
    "\n",
    "\n",
    "\n",
    "# Resultados\n",
    "print('Equações de saída com perturbações:')\n",
    "display(\n",
    "Math('{} = {}'.format(printing.default_latex(eq_D_pll_d_p7.lhs),\n",
    "                      printing.default_latex(eq_D_pll_d_p7.rhs)))                    \n",
    ")\n",
    "display(\n",
    "Math('{} = {}'.format(printing.default_latex(eq_D_pll_q_p7.lhs),\n",
    "                      printing.default_latex(eq_D_pll_q_p7.rhs)))                    \n",
    ")\n",
    "\n",
    "\n",
    "print('\\nEquação de Erro de fase com perturbações')\n",
    "display(\n",
    "Math('{} = {}'.format(printing.default_latex(eq_erro_ph_p7.lhs),\n",
    "                      printing.default_latex(eq_erro_ph_p7.rhs)))\n",
    ")\n",
    "\n",
    "\n",
    "print('\\nEquação de Erro de Amplitude com perturbações')\n",
    "display(\n",
    "Math('{} = {}'.format(printing.default_latex(eq_erro_vp_p7.lhs),\n",
    "                      printing.default_latex(eq_erro_vp_p7.rhs)))\n",
    ")"
   ]
  }
 ],
 "metadata": {
  "kernelspec": {
   "display_name": "Python 3",
   "language": "python",
   "name": "python3"
  },
  "language_info": {
   "codemirror_mode": {
    "name": "ipython",
    "version": 3
   },
   "file_extension": ".py",
   "mimetype": "text/x-python",
   "name": "python",
   "nbconvert_exporter": "python",
   "pygments_lexer": "ipython3",
   "version": "3.11.2"
  }
 },
 "nbformat": 4,
 "nbformat_minor": 2
}

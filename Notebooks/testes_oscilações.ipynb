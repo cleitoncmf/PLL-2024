{
 "cells": [
  {
   "cell_type": "markdown",
   "id": "8064c613",
   "metadata": {},
   "source": [
    "# Avaliação das oscilações de PLLs"
   ]
  },
  {
   "cell_type": "code",
   "execution_count": 18,
   "id": "eeff2954",
   "metadata": {},
   "outputs": [],
   "source": [
    "import sympy as sp\n",
    "\n",
    "\n",
    "from IPython.display import Math\n",
    "from sympy.interactive import printing\n",
    "\n",
    "\n",
    "from sympy.simplify.fu import TR10\n",
    "from sympy.simplify.fu import TR7"
   ]
  },
  {
   "cell_type": "markdown",
   "id": "d30e3d5a",
   "metadata": {},
   "source": [
    "## Definição das variáveis"
   ]
  },
  {
   "cell_type": "code",
   "execution_count": 14,
   "id": "962b30eb",
   "metadata": {},
   "outputs": [],
   "source": [
    "# Sinais de Entrada\n",
    "V_p = sp.Symbol('V_{+}')\n",
    "V_n = sp.Symbol('V_{-}')\n",
    "\n",
    "\n",
    "phi_n = sp.Symbol('\\\\phi_n')\n",
    "\n",
    "w = sp.Symbol('\\\\omega')\n",
    "\n",
    "t = sp.Symbol('t')"
   ]
  },
  {
   "cell_type": "markdown",
   "id": "8dac052f",
   "metadata": {},
   "source": [
    "## Funções\n"
   ]
  },
  {
   "cell_type": "code",
   "execution_count": 15,
   "id": "e5ab03bf",
   "metadata": {},
   "outputs": [],
   "source": [
    "v_alfa_p = V_p*sp.sin(w*t)\n",
    "v_beta_p = -V_p*sp.cos(w*t)\n",
    "\n",
    "\n",
    "v_alfa_n = V_n*sp.sin(w*t - phi_n)\n",
    "v_beta_n = V_n*sp.cos(w*t- phi_n)\n",
    "\n",
    "\n",
    "v_alfa = v_alfa_p + v_alfa_n\n",
    "v_beta = v_beta_p + v_beta_n"
   ]
  },
  {
   "cell_type": "markdown",
   "id": "24d157a9",
   "metadata": {},
   "source": [
    "## Cálculos para os eixos dq"
   ]
  },
  {
   "cell_type": "code",
   "execution_count": 20,
   "id": "e69b5994",
   "metadata": {},
   "outputs": [
    {
     "name": "stdout",
     "output_type": "stream",
     "text": [
      "Sinais de saída:\n"
     ]
    },
    {
     "data": {
      "text/latex": [
       "$\\displaystyle v_q^{+} = V_{-} \\sin{\\left(2 \\omega t - \\phi_{n} \\right)}$"
      ],
      "text/plain": [
       "<IPython.core.display.Math object>"
      ]
     },
     "metadata": {},
     "output_type": "display_data"
    },
    {
     "data": {
      "text/latex": [
       "$\\displaystyle v_d^{+} = V_{+} - V_{-} \\cos{\\left(2 \\omega t - \\phi_{n} \\right)}$"
      ],
      "text/plain": [
       "<IPython.core.display.Math object>"
      ]
     },
     "metadata": {},
     "output_type": "display_data"
    }
   ],
   "source": [
    "# Eixo de phase\n",
    "\n",
    "v_q_p = sp.simplify(v_alfa*sp.cos(w*t) + v_beta*sp.sin(w*t))\n",
    "\n",
    "\n",
    "v_d_p = sp.simplify(TR7(sp.simplify(v_alfa*sp.sin(w*t) - v_beta*sp.cos(w*t))))\n",
    "\n",
    "\n",
    "# Resultados\n",
    "print('Sinais de saída:')\n",
    "display(\n",
    "Math('{} = {}'.format('v_q^{+}',\n",
    "                      printing.default_latex(v_q_p)))                    \n",
    ")\n",
    "display(\n",
    "Math('{} = {}'.format('v_d^{+}',\n",
    "                      printing.default_latex(v_d_p)))                    \n",
    ")\n"
   ]
  },
  {
   "cell_type": "markdown",
   "id": "53cfde62",
   "metadata": {},
   "source": [
    "## Cálculos trocados"
   ]
  },
  {
   "cell_type": "code",
   "execution_count": 21,
   "id": "09fb9a45",
   "metadata": {},
   "outputs": [
    {
     "name": "stdout",
     "output_type": "stream",
     "text": [
      "Sinais de saída:\n"
     ]
    },
    {
     "data": {
      "text/latex": [
       "$\\displaystyle v_q^{t} = - 2 V_{+} \\cos^{2}{\\left(\\omega t \\right)} + V_{+} + V_{-} \\cos{\\left(\\phi_{n} \\right)}$"
      ],
      "text/plain": [
       "<IPython.core.display.Math object>"
      ]
     },
     "metadata": {},
     "output_type": "display_data"
    },
    {
     "data": {
      "text/latex": [
       "$\\displaystyle v_d^{t} = V_{+} \\sin{\\left(2 \\omega t \\right)} - V_{-} \\sin{\\left(\\phi_{n} \\right)}$"
      ],
      "text/plain": [
       "<IPython.core.display.Math object>"
      ]
     },
     "metadata": {},
     "output_type": "display_data"
    }
   ],
   "source": [
    "v_q_t = sp.simplify(v_alfa*sp.sin(w*t) + v_beta*sp.cos(w*t))\n",
    "\n",
    "\n",
    "v_d_t = sp.simplify(TR7(sp.simplify(v_alfa*sp.cos(w*t) - v_beta*sp.sin(w*t))))\n",
    "\n",
    "\n",
    "# Resultados\n",
    "print('Sinais de saída:')\n",
    "display(\n",
    "Math('{} = {}'.format('v_q^{t}',\n",
    "                      printing.default_latex(v_q_t)))                    \n",
    ")\n",
    "display(\n",
    "Math('{} = {}'.format('v_d^{t}',\n",
    "                      printing.default_latex(v_d_t)))                    \n",
    ")\n",
    "\n"
   ]
  }
 ],
 "metadata": {
  "kernelspec": {
   "display_name": "Python 3",
   "language": "python",
   "name": "python3"
  },
  "language_info": {
   "codemirror_mode": {
    "name": "ipython",
    "version": 3
   },
   "file_extension": ".py",
   "mimetype": "text/x-python",
   "name": "python",
   "nbconvert_exporter": "python",
   "pygments_lexer": "ipython3",
   "version": "3.12.2"
  }
 },
 "nbformat": 4,
 "nbformat_minor": 5
}

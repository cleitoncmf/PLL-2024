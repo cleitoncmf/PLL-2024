{
 "cells": [
  {
   "cell_type": "markdown",
   "metadata": {},
   "source": [
    "# Desenvolvidmento do modelo de pequenos sinais do PLL\n",
    "\n",
    "Estou considerando aqui que o PLL é responsável por trackear uma componente de sequência negativa. Isso interfere diretamente nas equações de definem $pll_\\alpha$ e $pll_\\beta$. Para sequência positiva, temos que modificar estas equações."
   ]
  },
  {
   "cell_type": "code",
   "execution_count": 28,
   "metadata": {},
   "outputs": [],
   "source": [
    "import sympy as sp\n",
    "\n",
    "\n",
    "from IPython.display import Math\n",
    "from sympy.interactive import printing"
   ]
  },
  {
   "cell_type": "markdown",
   "metadata": {},
   "source": [
    "## Definição das variáveis"
   ]
  },
  {
   "cell_type": "code",
   "execution_count": 37,
   "metadata": {},
   "outputs": [],
   "source": [
    "# Sinais de Entrada\n",
    "v_al = sp.Symbol('v_\\\\alpha')\n",
    "v_be = sp.Symbol('v_\\\\beta')\n",
    "\n",
    "# Erro de phase\n",
    "erro_ph = sp.Symbol('\\\\varepsilon_\\\\phi')\n",
    "\n",
    "# Erro de amplitude\n",
    "erro_vp = sp.Symbol('\\\\varepsilon_vp')\n",
    "\n",
    "# Variável trackeada: amplitude\n",
    "Vp = sp.Symbol('V_p')\n",
    "\n",
    "# Variável trackeada: frequência angular\n",
    "Vpll = sp.Symbol('V_{pll}')\n",
    "\n",
    "# Variável trackeada: frequência angular\n",
    "wpll = sp.Symbol('\\\\omega_{pll}')\n",
    "\n",
    "# Variável trackeada: ângulo\n",
    "thetapll = sp.Symbol('\\\\theta_{pll}')\n",
    "\n",
    "# Sinais de saída do PLL\n",
    "pll_al = sp.Symbol('pll_\\\\alpha')\n",
    "pll_be = sp.Symbol('pll_\\\\beta')"
   ]
  },
  {
   "cell_type": "markdown",
   "metadata": {},
   "source": [
    "## Equações do PLL"
   ]
  },
  {
   "cell_type": "code",
   "execution_count": 42,
   "metadata": {},
   "outputs": [
    {
     "name": "stdout",
     "output_type": "stream",
     "text": [
      "Sinais de saída:\n"
     ]
    },
    {
     "data": {
      "text/latex": [
       "$\\displaystyle pll_{\\alpha} = - V_{pll} \\sin{\\left(\\theta_{pll} \\right)}$"
      ],
      "text/plain": [
       "<IPython.core.display.Math object>"
      ]
     },
     "metadata": {},
     "output_type": "display_data"
    },
    {
     "data": {
      "text/latex": [
       "$\\displaystyle pll_{\\beta} = V_{pll} \\cos{\\left(\\theta_{pll} \\right)}$"
      ],
      "text/plain": [
       "<IPython.core.display.Math object>"
      ]
     },
     "metadata": {},
     "output_type": "display_data"
    },
    {
     "name": "stdout",
     "output_type": "stream",
     "text": [
      "\n",
      "Erro de fase\n"
     ]
    },
    {
     "data": {
      "text/latex": [
       "$\\displaystyle \\varepsilon_{\\phi} = \\left(- pll_{\\alpha} + v_{\\alpha}\\right) \\cos{\\left(\\theta_{pll} \\right)} + \\left(- pll_{\\beta} + v_{\\beta}\\right) \\sin{\\left(\\theta_{pll} \\right)}$"
      ],
      "text/plain": [
       "<IPython.core.display.Math object>"
      ]
     },
     "metadata": {},
     "output_type": "display_data"
    },
    {
     "name": "stdout",
     "output_type": "stream",
     "text": [
      "\n",
      "Erro de Amplitude\n"
     ]
    },
    {
     "data": {
      "text/latex": [
       "$\\displaystyle \\varepsilon_{vp} = - (- pll_{\\alpha} + v_{\\alpha}) \\sin{\\left(\\theta_{pll} \\right)} + \\left(- pll_{\\beta} + v_{\\beta}\\right) \\cos{\\left(\\theta_{pll} \\right)}$"
      ],
      "text/plain": [
       "<IPython.core.display.Math object>"
      ]
     },
     "metadata": {},
     "output_type": "display_data"
    }
   ],
   "source": [
    "# Equações de saída do PLL\n",
    "eq_pll_al = sp.Eq(pll_al,-Vpll*sp.sin(thetapll))\n",
    "eq_pll_be = sp.Eq(pll_be,Vpll*sp.cos(thetapll))\n",
    "\n",
    "# Equações de erro do PLL\n",
    "with sp.evaluate(0):\n",
    "    eq_erro_ph = sp.Eq(erro_ph,(v_al - pll_al)*sp.cos(thetapll) + (v_be - pll_be)*sp.sin(thetapll))\n",
    "    eq_erro_vp = sp.Eq(erro_vp,-(v_al - pll_al)*sp.sin(thetapll) + (v_be - pll_be)*sp.cos(thetapll))\n",
    "\n",
    "# Resultados\n",
    "print('Sinais de saída:')\n",
    "display(\n",
    "Math('{} = {}'.format(printing.default_latex(eq_pll_al.lhs),\n",
    "                      printing.default_latex(eq_pll_al.rhs)))                    \n",
    ")\n",
    "display(\n",
    "Math('{} = {}'.format(printing.default_latex(eq_pll_be.lhs),\n",
    "                      printing.default_latex(eq_pll_be.rhs)))                    \n",
    ")\n",
    "\n",
    "\n",
    "print('\\nErro de fase')\n",
    "display(\n",
    "Math('{} = {}'.format(printing.default_latex(eq_erro_ph.lhs),\n",
    "                      printing.default_latex(eq_erro_ph.rhs)))\n",
    ")\n",
    "\n",
    "\n",
    "print('\\nErro de Amplitude')\n",
    "display(\n",
    "Math('{} = {}'.format(printing.default_latex(eq_erro_vp.lhs),\n",
    "                      printing.default_latex(eq_erro_vp.rhs)))\n",
    ")"
   ]
  },
  {
   "cell_type": "markdown",
   "metadata": {},
   "source": [
    "## Definição de variáveis para a linearização"
   ]
  },
  {
   "cell_type": "code",
   "execution_count": null,
   "metadata": {},
   "outputs": [],
   "source": []
  }
 ],
 "metadata": {
  "kernelspec": {
   "display_name": "Python 3",
   "language": "python",
   "name": "python3"
  },
  "language_info": {
   "codemirror_mode": {
    "name": "ipython",
    "version": 3
   },
   "file_extension": ".py",
   "mimetype": "text/x-python",
   "name": "python",
   "nbconvert_exporter": "python",
   "pygments_lexer": "ipython3",
   "version": "3.12.2"
  }
 },
 "nbformat": 4,
 "nbformat_minor": 2
}

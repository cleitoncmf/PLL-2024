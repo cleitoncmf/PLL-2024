{
 "cells": [
  {
   "cell_type": "code",
   "execution_count": 1,
   "metadata": {
    "id": "x0HojLPVTVX9"
   },
   "outputs": [],
   "source": [
    "import sympy as sp"
   ]
  },
  {
   "cell_type": "code",
   "execution_count": 2,
   "metadata": {
    "colab": {
     "base_uri": "https://localhost:8080/",
     "height": 39
    },
    "id": "oKiy6e_BTfSU",
    "outputId": "44cd40fc-61da-4991-e9af-687273486b6d"
   },
   "outputs": [],
   "source": [
    "# Definição das variáveis\n",
    "\n",
    "va = sp.Symbol('v_a')\n",
    "vb = sp.Symbol('v_b')\n",
    "vc = sp.Symbol('v_c')\n",
    "\n",
    "valpha = sp.Symbol('v_\\\\alpha')\n",
    "vbeta = sp.Symbol('v_\\\\beta')\n",
    "\n",
    "\n",
    "j = sp.I"
   ]
  },
  {
   "cell_type": "markdown",
   "metadata": {
    "id": "pagDvemHUWzv"
   },
   "source": [
    "## Componentes simétricas no domínio $\\alpha\\beta$\n",
    "\n",
    "Uma componente genérica de sequência positiva pode ser representada no domínio $\\alpha\\beta$ da seguinte forma (se considerarmos angulo de fase nulo):\n",
    "\n",
    "\n",
    "$$\n",
    "v_{\\alpha}^{+} = \\sin(\\omega t) \\\\\n",
    "v_{\\beta}^{+} = -\\cos(\\omega t) \n",
    "$$\n",
    "\n",
    "\n",
    "Da mesma forma, uma ocmponente genérica de sequência negativa pode ser representada por:\n",
    "\n",
    "$$\n",
    "v_{\\alpha}^{-} = \\sin(\\omega t) \\\\\n",
    "v_{\\beta}^{-} = \\cos(\\omega t) \n",
    "$$"
   ]
  },
  {
   "cell_type": "markdown",
   "metadata": {
    "id": "ZsX74Di-V3Vg"
   },
   "source": [
    "## Transformação de Fortescue no domínio $\\alpha\\beta$\n",
    "\n",
    "No domínio $abc$, a transfromação de Fortescue pode ser representada por:\n",
    "\n",
    "$$\n",
    "\\begin{bmatrix}\n",
    "v_{a} \\\\\n",
    "v_{b} \\\\\n",
    "v_{c}\n",
    "\\end{bmatrix} =\n",
    "\\begin{bmatrix}\n",
    "1 & 1 & 1 \\\\\n",
    "1 & a^2 & a \\\\\n",
    "1 & a & a^2\n",
    "\\end{bmatrix}\n",
    "\\begin{bmatrix}\n",
    "v_{a}^{0} \\\\\n",
    "v_{a}^{+} \\\\\n",
    "v_{a}^{-}\n",
    "\\end{bmatrix}\n",
    "$$\n",
    "\n",
    "onde $a = e^{j\\frac{2\\pi}{3}}$\n",
    "\n",
    "Escevendo na forma matricial:\n",
    "\n",
    "$$\n",
    "v_{abc} = A v_{a}^{0+-}\n",
    "$$\n",
    "\n",
    "\n",
    "Sabemos que a transformação de Clark (com amplitude invariante) é dada por:\n",
    "\n",
    "$$\n",
    "v_{\\alpha\\beta} = T_{\\alpha\\beta} v_{abc}\n",
    "$$\n",
    "\n",
    "onde\n",
    "\n",
    "$$\n",
    "T_{\\alpha\\beta} =\n",
    "\\frac{2}{3}\n",
    "\\begin{bmatrix}\n",
    "1 & -\\frac{1}{2} & -\\frac{1}{2} \\\\\n",
    "0 & \\frac{\\sqrt{3}}{2} & -\\frac{\\sqrt{3}}{2}\\\\\n",
    "\\frac{1}{2} & \\frac{1}{2} & \\frac{1}{2}\n",
    "\\end{bmatrix}\n",
    "$$\n",
    "\n",
    "\n",
    "Dessa forma, podemos reescrever a transfromação de Fortescue da seguinte forma:\n",
    "\n",
    "$$\n",
    "v_{abc} = A v_{a}^{0+-}\n",
    "$$\n",
    "\n",
    "$$\n",
    "T_{\\alpha\\beta}^{-1} v_{\\alpha\\beta} = A v_{a}^{0+-}\n",
    "$$\n",
    "\n",
    "$$\n",
    "v_{a}^{0+-} = v_{\\alpha}^{0+-} = A^{-1} T_{\\alpha\\beta}^{-1} v_{\\alpha\\beta}\n",
    "$$\n",
    "\n",
    "Observe que uma vez que utilizamos a transfromada de Clarck com amplitude invariantes, sempre teremos $v_{a}^{0+-} = v_{\\alpha}^{0+-}$. Assim, a decomposição em componentes simétricas no domínio $\\alpha\\beta$ será dada por:\n",
    "\n",
    "$$\n",
    "A_{\\alpha\\beta}^{-1} = A^{-1} T_{\\alpha\\beta}^{-1}\n",
    "$$\n",
    "\n",
    "$$\n",
    "A_{\\alpha\\beta} = T_{\\alpha\\beta} A\n",
    "$$\n",
    "\n",
    "$$\n",
    "v_{\\alpha\\beta0} = A_{\\alpha\\beta} v_{\\alpha}^{0+-}\n",
    "$$\n",
    "\n",
    "Neste caso, a transformação será dada por:\n",
    "$$\n",
    "A_{\\alpha\\beta} =\n",
    "\\begin{bmatrix}\n",
    "0 & 1 & 1 \\\\\n",
    "0 & -j & j\\\\\n",
    "1 & 0 & 0\n",
    "\\end{bmatrix} =\n",
    "\\begin{bmatrix}\n",
    "0 & 1 & 1 \\\\\n",
    "0 & -e^{j\\frac{\\pi}{2}} & e^{j\\frac{\\pi}{2}}\\\\\n",
    "1 & 0 & 0\n",
    "\\end{bmatrix} =\n",
    "\\begin{bmatrix}\n",
    "0 & 1 & 1 \\\\\n",
    "0 & e^{-j\\frac{\\pi}{2}} & -e^{-j\\frac{\\pi}{2}}\\\\\n",
    "1 & 0 & 0\n",
    "\\end{bmatrix}\n",
    "$$\n",
    "\n",
    "$$\n",
    "A_{\\alpha\\beta}^{-1} =\n",
    "\\frac{1}{2}\n",
    "\\begin{bmatrix}\n",
    "0 & 0 & 2 \\\\\n",
    "1 & j & 0\\\\\n",
    "1 & -j & 0\n",
    "\\end{bmatrix} =\n",
    "\\frac{1}{2}\n",
    "\\begin{bmatrix}\n",
    "0 & 0 & 2 \\\\\n",
    "1 & e^{j\\frac{\\pi}{2}} & 0\\\\\n",
    "1 & -e^{j\\frac{\\pi}{2}} & 0\n",
    "\\end{bmatrix} =\n",
    "\\frac{1}{2}\n",
    "\\begin{bmatrix}\n",
    "0 & 0 & 2 \\\\\n",
    "1 & -e^{-j\\frac{\\pi}{2}} & 0\\\\\n",
    "1 & e^{-j\\frac{\\pi}{2}} & 0\n",
    "\\end{bmatrix}\n",
    "$$\n"
   ]
  },
  {
   "cell_type": "code",
   "execution_count": 5,
   "metadata": {
    "colab": {
     "base_uri": "https://localhost:8080/",
     "height": 78
    },
    "id": "3zlIKE4LXS3g",
    "outputId": "f68a120a-c840-4413-e9bf-777f99890bc2"
   },
   "outputs": [
    {
     "data": {
      "text/latex": [
       "$\\displaystyle \\left[\\begin{matrix}0 & 0 & 1\\\\\\frac{1}{2} & \\frac{i}{2} & 0\\\\\\frac{1}{2} & - \\frac{i}{2} & 0\\end{matrix}\\right]$"
      ],
      "text/plain": [
       "Matrix([\n",
       "[  0,    0, 1],\n",
       "[1/2,  I/2, 0],\n",
       "[1/2, -I/2, 0]])"
      ]
     },
     "execution_count": 5,
     "metadata": {},
     "output_type": "execute_result"
    }
   ],
   "source": [
    "# Transformação de Fortescue no domínio αβ\n",
    "\n",
    "# Operador defasador de 120º\n",
    "with sp.evaluate(False):\n",
    "  a = sp.exp(j*sp.pi*2/3)\n",
    "\n",
    "# Matriz de transformação de Fortescue\n",
    "A = sp.Matrix([[1,1,1],[1,a**2,a],[1,a,a**2]])\n",
    "\n",
    "# Matriz inversa de transformação de Fortescue\n",
    "Ainv = (sp.S.One*1/3) * sp.Matrix([[1,1,1],[1,a,a**2],[1,a**2,a]])\n",
    "\n",
    "# Matriz de Transformação de Clark\n",
    "v1o2 = (sp.S.One*1/2)\n",
    "vsrqt3o2 = (sp.S.One*sp.sqrt(3)/2)\n",
    "Talphabeta =  (sp.S.One*2/3) * sp.Matrix([[1,-v1o2,-v1o2],[0,vsrqt3o2,-vsrqt3o2],[v1o2,v1o2,v1o2]])\n",
    "\n",
    "\n",
    "# Matriz inversa de Transformação de Clark\n",
    "Talphabetainv =  sp.Matrix([[1,0,1],[-v1o2,vsrqt3o2,1],[-v1o2,-vsrqt3o2,1]])\n",
    "\n",
    "# Transformação de Fortescue no referencial αβ\n",
    "Aalphabeta = Talphabeta*A\n",
    "\n",
    "for k,entry in enumerate(Aalphabeta):\n",
    "  Aalphabeta[k] = entry.rewrite(sp.sin).simplify()\n",
    "\n",
    "\n",
    "# Transformação Inversa de Fortescue no referencial αβ\n",
    "Aalphabetainv = Aalphabeta.inv()\n",
    "#Aalphabeta\n",
    "\n",
    "Aalphabetainv\n",
    "#Aalphabeta"
   ]
  },
  {
   "cell_type": "code",
   "execution_count": null,
   "metadata": {
    "colab": {
     "base_uri": "https://localhost:8080/",
     "height": 39
    },
    "id": "uBym3g4PloWk",
    "outputId": "43da4454-9683-4221-9657-bb5b283499b1"
   },
   "outputs": [
    {
     "data": {
      "text/latex": [
       "$\\displaystyle i$"
      ],
      "text/plain": [
       "I"
      ]
     },
     "execution_count": 53,
     "metadata": {},
     "output_type": "execute_result"
    }
   ],
   "source": []
  }
 ],
 "metadata": {
  "colab": {
   "provenance": []
  },
  "kernelspec": {
   "display_name": "Python 3",
   "name": "python3"
  },
  "language_info": {
   "codemirror_mode": {
    "name": "ipython",
    "version": 3
   },
   "file_extension": ".py",
   "mimetype": "text/x-python",
   "name": "python",
   "nbconvert_exporter": "python",
   "pygments_lexer": "ipython3",
   "version": "3.11.2"
  }
 },
 "nbformat": 4,
 "nbformat_minor": 0
}

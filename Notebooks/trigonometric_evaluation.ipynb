{
 "cells": [
  {
   "cell_type": "markdown",
   "id": "d5984313",
   "metadata": {},
   "source": [
    "# Desenvolvimento das equações que levam aos diagramas de bloco de controle\n"
   ]
  },
  {
   "cell_type": "code",
   "execution_count": 11,
   "id": "820c633e",
   "metadata": {},
   "outputs": [],
   "source": [
    "import sympy as sp\n",
    "\n",
    "\n",
    "from sympy.simplify.fu import TR7, TR8\n",
    "\n",
    "\n",
    "from IPython.display import Math\n",
    "from sympy.interactive import printing"
   ]
  },
  {
   "cell_type": "markdown",
   "id": "10d0531c",
   "metadata": {},
   "source": [
    "## Definição das variáveis"
   ]
  },
  {
   "cell_type": "code",
   "execution_count": 6,
   "id": "722e3ec4",
   "metadata": {},
   "outputs": [],
   "source": [
    "# Variáveis gerais\n",
    "\n",
    "t = sp.Symbol('t')\n",
    "w = sp.Symbol('\\\\omega')\n",
    "\n",
    "V_p = sp.Symbol('V^{+}')\n",
    "V_n = sp.Symbol('V^{-}')\n",
    "\n",
    "phi_n = sp.Symbol('\\\\phi^{-}')\n",
    "\n",
    "\n",
    "# Variáveis sistemicas\n",
    "v_al = sp.Symbol('v_{\\\\alpha}')\n",
    "v_be = sp.Symbol('v_{\\\\beta}')\n",
    "\n",
    "\n",
    "\n",
    "\n",
    "v_al_p = sp.Symbol('v^{+}_{\\\\alpha}')\n",
    "v_be_p = sp.Symbol('v^{+}_{\\\\beta}')\n",
    "\n",
    "v_al_n = sp.Symbol('v^{-}_{\\\\alpha}')\n",
    "v_be_n = sp.Symbol('v^{-}_{\\\\beta}')\n",
    "\n",
    "\n",
    "\n",
    "\n",
    "\n",
    "v_d_p = sp.Symbol('v^{+}_{d}')\n",
    "v_q_p = sp.Symbol('v^{+}_{q}')\n",
    "\n",
    "\n",
    "\n",
    "v_d_n = sp.Symbol('v^{-}_{d}')\n",
    "v_q_n = sp.Symbol('v^{-}_{q}')"
   ]
  },
  {
   "cell_type": "markdown",
   "id": "fb3b0f28",
   "metadata": {},
   "source": [
    "## Definição das equações de tensão"
   ]
  },
  {
   "cell_type": "code",
   "execution_count": 3,
   "id": "0280aa03",
   "metadata": {},
   "outputs": [
    {
     "name": "stdout",
     "output_type": "stream",
     "text": [
      "Componentes de sequência positiva:\n"
     ]
    },
    {
     "data": {
      "text/latex": [
       "$\\displaystyle v^{+}_{\\alpha} = V^{+} \\sin{\\left(\\omega t \\right)}$"
      ],
      "text/plain": [
       "<IPython.core.display.Math object>"
      ]
     },
     "metadata": {},
     "output_type": "display_data"
    },
    {
     "data": {
      "text/latex": [
       "$\\displaystyle v^{+}_{\\beta} = - V^{+} \\cos{\\left(\\omega t \\right)}$"
      ],
      "text/plain": [
       "<IPython.core.display.Math object>"
      ]
     },
     "metadata": {},
     "output_type": "display_data"
    },
    {
     "name": "stdout",
     "output_type": "stream",
     "text": [
      "Componentes de sequência negativa:\n"
     ]
    },
    {
     "data": {
      "text/latex": [
       "$\\displaystyle v^{-}_{\\alpha} = - V^{-} \\sin{\\left(\\omega t - \\phi^{-} \\right)}$"
      ],
      "text/plain": [
       "<IPython.core.display.Math object>"
      ]
     },
     "metadata": {},
     "output_type": "display_data"
    },
    {
     "data": {
      "text/latex": [
       "$\\displaystyle v^{-}_{\\beta} = - V^{-} \\cos{\\left(\\omega t - \\phi^{-} \\right)}$"
      ],
      "text/plain": [
       "<IPython.core.display.Math object>"
      ]
     },
     "metadata": {},
     "output_type": "display_data"
    }
   ],
   "source": [
    "# equações\n",
    "eq_v_al_p = sp.Eq(v_al_p, V_p*sp.sin(w*t))\n",
    "eq_v_be_p = sp.Eq(v_be_p, -V_p*sp.cos(w*t))\n",
    "\n",
    "eq_v_al_n = sp.Eq(v_al_n, -V_n*sp.sin(w*t-phi_n))\n",
    "eq_v_be_n = sp.Eq(v_be_n, -V_n*sp.cos(w*t-phi_n))\n",
    "\n",
    "\n",
    "# Resultados\n",
    "print('Componentes de sequência positiva:')\n",
    "display(\n",
    "Math('{} = {}'.format(printing.default_latex(eq_v_al_p.lhs),\n",
    "                      printing.default_latex(eq_v_al_p.rhs)))                    \n",
    ")\n",
    "display(\n",
    "Math('{} = {}'.format(printing.default_latex(eq_v_be_p.lhs),\n",
    "                      printing.default_latex(eq_v_be_p.rhs)))                    \n",
    ")\n",
    "\n",
    "print('Componentes de sequência negativa:')\n",
    "display(\n",
    "Math('{} = {}'.format(printing.default_latex(eq_v_al_n.lhs),\n",
    "                      printing.default_latex(eq_v_al_n.rhs)))                    \n",
    ")\n",
    "display(\n",
    "Math('{} = {}'.format(printing.default_latex(eq_v_be_n.lhs),\n",
    "                      printing.default_latex(eq_v_be_n.rhs)))                    \n",
    ")\n",
    "\n"
   ]
  },
  {
   "cell_type": "markdown",
   "id": "21d55348",
   "metadata": {},
   "source": [
    "## Tensões completas"
   ]
  },
  {
   "cell_type": "code",
   "execution_count": 4,
   "id": "fe514b15",
   "metadata": {},
   "outputs": [
    {
     "name": "stdout",
     "output_type": "stream",
     "text": [
      "Resultados:\n"
     ]
    },
    {
     "data": {
      "text/latex": [
       "$\\displaystyle v_{\\alpha} = V^{+} \\sin{\\left(\\omega t \\right)} - V^{-} \\sin{\\left(\\omega t - \\phi^{-} \\right)}$"
      ],
      "text/plain": [
       "<IPython.core.display.Math object>"
      ]
     },
     "metadata": {},
     "output_type": "display_data"
    },
    {
     "data": {
      "text/latex": [
       "$\\displaystyle v_{\\beta} = - V^{+} \\cos{\\left(\\omega t \\right)} - V^{-} \\cos{\\left(\\omega t - \\phi^{-} \\right)}$"
      ],
      "text/plain": [
       "<IPython.core.display.Math object>"
      ]
     },
     "metadata": {},
     "output_type": "display_data"
    }
   ],
   "source": [
    "eq_v_al = sp.Eq(v_al, eq_v_al_p.rhs + eq_v_al_n.rhs)\n",
    "eq_v_be = sp.Eq(v_be, eq_v_be_p.rhs + eq_v_be_n.rhs)\n",
    "\n",
    "print('Resultados:')\n",
    "display(\n",
    "Math('{} = {}'.format(printing.default_latex(eq_v_al.lhs),\n",
    "                      printing.default_latex(eq_v_al.rhs)))                    \n",
    ")\n",
    "display(\n",
    "Math('{} = {}'.format(printing.default_latex(eq_v_be.lhs),\n",
    "                      printing.default_latex(eq_v_be.rhs)))                    \n",
    ")"
   ]
  },
  {
   "cell_type": "markdown",
   "id": "c0e63258",
   "metadata": {},
   "source": [
    "## Domínio de Park de sequencia positiva"
   ]
  },
  {
   "cell_type": "code",
   "execution_count": 5,
   "id": "53b3773d",
   "metadata": {},
   "outputs": [
    {
     "name": "stdout",
     "output_type": "stream",
     "text": [
      "Resultados:\n"
     ]
    },
    {
     "data": {
      "text/latex": [
       "$\\displaystyle v^{+}_{d} = - V^{-} \\sin{\\left(2 \\omega t - \\phi^{-} \\right)}$"
      ],
      "text/plain": [
       "<IPython.core.display.Math object>"
      ]
     },
     "metadata": {},
     "output_type": "display_data"
    },
    {
     "data": {
      "text/latex": [
       "$\\displaystyle v^{+}_{d} = - V^{+} - V^{-} \\cos{\\left(2 \\omega t - \\phi^{-} \\right)}$"
      ],
      "text/plain": [
       "<IPython.core.display.Math object>"
      ]
     },
     "metadata": {},
     "output_type": "display_data"
    }
   ],
   "source": [
    "eq_v_d_p = sp.Eq(v_d_p, \n",
    "                 sp.simplify(eq_v_al.rhs*sp.cos(w*t) + eq_v_be.rhs*sp.sin(w*t) )\n",
    "                ) \n",
    "\n",
    "\n",
    "eq_v_q_p = sp.Eq(v_d_p, \n",
    "                 sp.simplify(TR7(sp.simplify(-eq_v_al.rhs*sp.sin(w*t) + eq_v_be.rhs*sp.cos(w*t))) )\n",
    "                ) \n",
    "\n",
    "\n",
    "print('Resultados:')\n",
    "display(\n",
    "Math('{} = {}'.format(printing.default_latex(eq_v_d_p.lhs),\n",
    "                      printing.default_latex(eq_v_d_p.rhs)))                    \n",
    ")\n",
    "\n",
    "display(\n",
    "Math('{} = {}'.format(printing.default_latex(eq_v_q_p.lhs),\n",
    "                      printing.default_latex(eq_v_q_p.rhs)))                    \n",
    ")\n"
   ]
  },
  {
   "cell_type": "markdown",
   "id": "a615efbd",
   "metadata": {},
   "source": [
    "## Domínio de Park de sequência negativa"
   ]
  },
  {
   "cell_type": "code",
   "execution_count": 15,
   "id": "26181987",
   "metadata": {},
   "outputs": [
    {
     "name": "stdout",
     "output_type": "stream",
     "text": [
      "Resultados:\n"
     ]
    },
    {
     "data": {
      "text/latex": [
       "$\\displaystyle v^{-}_{d} = V^{+} \\sin{\\left(2 \\omega t \\right)} + V^{-} \\sin{\\left(\\phi^{-} \\right)}$"
      ],
      "text/plain": [
       "<IPython.core.display.Math object>"
      ]
     },
     "metadata": {},
     "output_type": "display_data"
    },
    {
     "data": {
      "text/latex": [
       "$\\displaystyle v^{-}_{d} = - V^{+} \\cos{\\left(2 \\omega t \\right)} - V^{-} \\cos{\\left(\\phi^{-} \\right)}$"
      ],
      "text/plain": [
       "<IPython.core.display.Math object>"
      ]
     },
     "metadata": {},
     "output_type": "display_data"
    }
   ],
   "source": [
    "eq_v_d_n = sp.Eq(v_d_n, \n",
    "                 TR8(sp.simplify(eq_v_al.rhs*sp.cos(w*t) - eq_v_be.rhs*sp.sin(w*t) ) )\n",
    "                ) \n",
    "\n",
    "\n",
    "eq_v_q_n = sp.Eq(v_d_n, \n",
    "                 sp.simplify(TR7(sp.simplify(eq_v_al.rhs*sp.sin(w*t) + eq_v_be.rhs*sp.cos(w*t))) )\n",
    "                ) \n",
    "\n",
    "\n",
    "print('Resultados:')\n",
    "display(\n",
    "Math('{} = {}'.format(printing.default_latex(eq_v_d_n.lhs),\n",
    "                      printing.default_latex(eq_v_d_n.rhs)))                    \n",
    ")\n",
    "\n",
    "display(\n",
    "Math('{} = {}'.format(printing.default_latex(eq_v_q_n.lhs),\n",
    "                      printing.default_latex(eq_v_q_n.rhs)))                    \n",
    ")"
   ]
  }
 ],
 "metadata": {
  "kernelspec": {
   "display_name": "Python 3",
   "language": "python",
   "name": "python3"
  },
  "language_info": {
   "codemirror_mode": {
    "name": "ipython",
    "version": 3
   },
   "file_extension": ".py",
   "mimetype": "text/x-python",
   "name": "python",
   "nbconvert_exporter": "python",
   "pygments_lexer": "ipython3",
   "version": "3.13.7"
  }
 },
 "nbformat": 4,
 "nbformat_minor": 5
}
